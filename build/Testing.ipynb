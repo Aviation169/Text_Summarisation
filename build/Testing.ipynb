{
 "cells": [
  {
   "cell_type": "markdown",
   "metadata": {},
   "source": [
    "Once you trained your model, you can use this code to generate the output.\n",
    "For the tokenisation and embedding I used pre-trained model like BERT, which will help you to save timeand improve the accuracy of your model. You can use any other pre-trained model like RoBERTa."
   ]
  },
  {
   "cell_type": "code",
   "execution_count": null,
   "metadata": {},
   "outputs": [],
   "source": [
    "import torch\n",
    "import pandas as pd\n",
    "from transformers import BertTokenizer  \n",
    "\n",
    "model_path = \"Text_summarisation_model_part1.pt\"\n",
    "checkpoint = torch.load(model_path, map_location=torch.device('cuda' if torch.cuda.is_available() else 'cpu'))\n",
    "model_config = checkpoint[\"model_config\"]\n",
    "\n",
    "bert_model_name = model_config[\"bert_model_name\"]\n",
    "tokenizer = BertTokenizer.from_pretrained(bert_model_name)\n",
    "\n",
    "model_config_for_init = {k: v for k, v in model_config.items() if k != 'bert_model_name'}\n",
    "model = TransformerSummarizer(**model_config_for_init)  \n",
    "model.load_state_dict(checkpoint[\"model_state_dict\"])\n",
    "model.eval() \n",
    "\n",
    "device = torch.device(\"cuda\" if torch.cuda.is_available() else \"cpu\")\n",
    "model.to(device)"
   ]
  },
  {
   "cell_type": "code",
   "execution_count": null,
   "metadata": {},
   "outputs": [],
   "source": [
    "def prepare_input(text, tokenizer, max_seq_length=256):\n",
    "    \"\"\"Encodes the input text using the tokenizer.\"\"\"\n",
    "    src_encoding = tokenizer(text, max_length=max_seq_length,\n",
    "                              truncation=True, padding=\"max_length\", return_tensors=\"pt\")\n",
    "    src_ids = src_encoding[\"input_ids\"].squeeze(0).to(device)\n",
    "    return src_ids"
   ]
  },
  {
   "cell_type": "code",
   "execution_count": null,
   "metadata": {},
   "outputs": [],
   "source": [
    "def generate_summary(model, text, tokenizer, max_length=50):\n",
    "    \"\"\"Generates a summary for the given text.\"\"\"\n",
    "    input_ids = prepare_input(text, tokenizer)\n",
    "    generated_ids = model.generate(input_ids, max_length=max_length, beam_width=5,\n",
    "                                   start_token_id=tokenizer.cls_token_id,\n",
    "                                   end_token_id=tokenizer.sep_token_id,\n",
    "                                   device=device)\n",
    "    summary = tokenizer.decode(generated_ids, skip_special_tokens=True)\n",
    "    return summary"
   ]
  },
  {
   "cell_type": "code",
   "execution_count": null,
   "metadata": {},
   "outputs": [],
   "source": [
    "input_text = \"\" #Your input\n",
    "summary = generate_summary(model, input_text, tokenizer)\n",
    "print(\"Generated Summary:\", summary)"
   ]
  }
 ],
 "metadata": {
  "language_info": {
   "name": "python"
  }
 },
 "nbformat": 4,
 "nbformat_minor": 2
}
