{
 "cells": [
  {
   "cell_type": "markdown",
   "metadata": {},
   "source": [
    "CNN/MAIL dataset from Kaggle for text_summarisation task\n",
    "https://www.kaggle.com/datasets/gowrishankarp/newspaper-text-summarization-cnn-dailymail"
   ]
  },
  {
   "cell_type": "markdown",
   "metadata": {},
   "source": [
    "CNN/MAIL dataset has a whitespace error so you can run the code below to remove it."
   ]
  },
  {
   "cell_type": "markdown",
   "metadata": {},
   "source": [
    "Removing Whitespace "
   ]
  },
  {
   "cell_type": "code",
   "execution_count": 4,
   "metadata": {},
   "outputs": [],
   "source": [
    "import pandas as pd\n",
    "import re\n",
    "\n",
    "\n",
    "data = pd.read_csv(\"test.csv\")\n",
    "\n",
    "def remove_extra_whitespace(text):\n",
    "    text = re.sub(r'\\s+([.])', r'\\1', text) \n",
    "    text = ' '.join(text.split()) \n",
    "    return text\n",
    "\n",
    "data['article'] = data['article'].apply(remove_extra_whitespace)\n",
    "data['highlights'] = data['highlights'].apply(remove_extra_whitespace)\n",
    "\n",
    "data.to_csv(\"test.csv\", index=False)"
   ]
  },
  {
   "cell_type": "markdown",
   "metadata": {},
   "source": [
    "The code below is useful if your computer is struggling to handle large amounts of data."
   ]
  },
  {
   "cell_type": "code",
   "execution_count": 3,
   "metadata": {},
   "outputs": [],
   "source": [
    "import pandas as pd\n",
    "\n",
    "file_path = \"train.csv\"\n",
    "df = pd.read_csv(file_path)\n",
    "\n",
    "df1 = df.iloc[:100000]\n",
    "df2 = df.iloc[100000:200000]\n",
    "df3 = df.iloc[200000:]\n",
    "df1.to_csv(\"part1.csv\",index=False)\n",
    "df2.to_csv(\"part2.csv\",index=False)\n",
    "df3.to_csv(\"part3.csv\",index=False)\n"
   ]
  },
  {
   "cell_type": "markdown",
   "metadata": {},
   "source": [
    "Drop the \"id\" column from the dataset."
   ]
  },
  {
   "cell_type": "code",
   "execution_count": 5,
   "metadata": {},
   "outputs": [
    {
     "name": "stdout",
     "output_type": "stream",
     "text": [
      "Success\n"
     ]
    },
    {
     "ename": "",
     "evalue": "",
     "output_type": "error",
     "traceback": [
      "\u001b[1;31mThe Kernel crashed while executing code in the current cell or a previous cell. \n",
      "\u001b[1;31mPlease review the code in the cell(s) to identify a possible cause of the failure. \n",
      "\u001b[1;31mClick <a href='https://aka.ms/vscodeJupyterKernelCrash'>here</a> for more info. \n",
      "\u001b[1;31mView Jupyter <a href='command:jupyter.viewOutput'>log</a> for further details."
     ]
    }
   ],
   "source": [
    "import pandas as pd\n",
    "\n",
    "df1 = pd.read_csv(\"test.csv\")\n",
    "df2 = pd.read_csv(\"validation.csv\")\n",
    "\n",
    "\n",
    "df1 = df1.drop(columns=[\"id\"])\n",
    "df2 = df2.drop(columns=[\"id\"])\n",
    "\n",
    "\n",
    "df1.to_csv(\"test.csv\", index=False)\n",
    "df2.to_csv(\"validation.csv\", index=False)\n",
    "print(\"Success\")\n",
    "\n"
   ]
  },
  {
   "cell_type": "markdown",
   "metadata": {},
   "source": [
    "View the dataset"
   ]
  },
  {
   "cell_type": "code",
   "execution_count": 10,
   "metadata": {},
   "outputs": [
    {
     "name": "stdout",
     "output_type": "stream",
     "text": [
      "                                             article  \\\n",
      "0  By. Associated Press. PUBLISHED:. 14:11 EST, 2...   \n",
      "1  (CNN) -- Ralph Mata was an internal affairs li...   \n",
      "2  A drunk driver who killed a young woman in a h...   \n",
      "3  (CNN) -- With a breezy sweep of his pen Presid...   \n",
      "4  Fleetwood are the only team still to have a 10...   \n",
      "\n",
      "                                          highlights  \n",
      "0  Bishop John Folda, of North Dakota, is taking ...  \n",
      "1  Criminal complaint: Cop used his role to help ...  \n",
      "2  Craig Eccleston-Todd, 27, had drunk at least t...  \n",
      "3  Nina dos Santos says Europe must be ready to a...  \n",
      "4  Fleetwood top of League One after 2-0 win at S...  \n",
      "                                             article  \\\n",
      "0  By. Rachel Reilly. PUBLISHED:. 09:20 EST, 18 A...   \n",
      "1  By. Ruth Styles. PUBLISHED:. 06:13 EST, 6 Sept...   \n",
      "2  (CNN) -- It might not be the biggest blunder i...   \n",
      "3  By. Sally Lee. and Louise Cheer for Daily Mail...   \n",
      "4  The cost of renovating the Olympic Stadium ahe...   \n",
      "\n",
      "                                          highlights  \n",
      "0  Sex clinics across the UK are stretched becaus...  \n",
      "1  The striking images are the work of Chicago ph...  \n",
      "2  \"Wheel of Fortune\" contestant Stephen Dryer sh...  \n",
      "3  The Australian Prime Minister has been critici...  \n",
      "4  Stratford's Olympic Stadium will cost more to ...  \n",
      "                                             article  \\\n",
      "0  By. Jessica Jerreat. PUBLISHED:. 15:57 EST, 19...   \n",
      "1  By. Jack Doyle. PUBLISHED:. 19:14 EST, 11 Marc...   \n",
      "2  By. John Edwards. PUBLISHED:. 17:12 EST, 10 De...   \n",
      "3  By. Chris Waugh. Franck Ribery has revealed th...   \n",
      "4  By. Harriet Hernando. An 11-year-old girl crea...   \n",
      "\n",
      "                                          highlights  \n",
      "0  Steven Goff turned himself in after being haun...  \n",
      "1  Vicky Pryce began her eight month sentence at ...  \n",
      "2  Former captain says United 'don't look like a ...  \n",
      "3  Ribery was offered an injection to try and pla...  \n",
      "4  Abigail Baker, 11, spent seven days making the...  \n",
      "                                             article  \\\n",
      "0  Ever noticed how plane seats appear to be gett...   \n",
      "1  A drunk teenage boy had to be rescued by secur...   \n",
      "2  Dougie Freedman is on the verge of agreeing a ...   \n",
      "3  Liverpool target Neto is also wanted by PSG an...   \n",
      "4  Bruce Jenner will break his silence in a two-h...   \n",
      "\n",
      "                                          highlights  \n",
      "0  Experts question if packed out planes are putt...  \n",
      "1  Drunk teenage boy climbed into lion enclosure ...  \n",
      "2  Nottingham Forest are close to extending Dougi...  \n",
      "3  Fiorentina goalkeeper Neto has been linked wit...  \n",
      "4  Tell-all interview with the reality TV star, 6...  \n",
      "                                             article  \\\n",
      "0  Sally Forrest, an actress-dancer who graced th...   \n",
      "1  A middle-school teacher in China has inked hun...   \n",
      "2  A man convicted of killing the father and sist...   \n",
      "3  Avid rugby fan Prince Harry could barely watch...   \n",
      "4  A Triple M Radio producer has been inundated w...   \n",
      "\n",
      "                                          highlights  \n",
      "0  Sally Forrest, an actress-dancer who graced th...  \n",
      "1  Works include pictures of Presidential Palace ...  \n",
      "2  Iftekhar Murtaza, 29, was convicted a year ago...  \n",
      "3  Prince Harry in attendance for England's crunc...  \n",
      "4  Nick Slater's colleagues uploaded a picture to...  \n"
     ]
    }
   ],
   "source": [
    "part1 = pd.read_csv(\"part1.csv\")\n",
    "part2 = pd.read_csv(\"part2.csv\")\n",
    "part3 = pd.read_csv(\"part3.csv\")\n",
    "part4 = pd.read_csv(\"test.csv\")\n",
    "part5 = pd.read_csv(\"validation.csv\")\n",
    "print(part1.head())\n",
    "print(part2.head())\n",
    "print(part3.head())\n",
    "print(part4.head())\n",
    "print(part5.head())"
   ]
  }
 ],
 "metadata": {
  "kernelspec": {
   "display_name": "Python 3",
   "language": "python",
   "name": "python3"
  },
  "language_info": {
   "codemirror_mode": {
    "name": "ipython",
    "version": 3
   },
   "file_extension": ".py",
   "mimetype": "text/x-python",
   "name": "python",
   "nbconvert_exporter": "python",
   "pygments_lexer": "ipython3",
   "version": "3.11.8"
  }
 },
 "nbformat": 4,
 "nbformat_minor": 2
}
